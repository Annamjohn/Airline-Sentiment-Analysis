{
  "cells": [
    {
      "cell_type": "markdown",
      "metadata": {
        "id": "view-in-github",
        "colab_type": "text"
      },
      "source": [
        "<a href=\"https://colab.research.google.com/github/Annamjohn/Twitter-Sentiment-Analysis/blob/main/Regular%20Expression.ipynb\" target=\"_parent\"><img src=\"https://colab.research.google.com/assets/colab-badge.svg\" alt=\"Open In Colab\"/></a>"
      ]
    },
    {
      "cell_type": "code",
      "source": [
        "import re\n",
        "import nltk\n",
        "from nltk.stem import PorterStemmer\n",
        "from nltk.corpus import stopwords\n",
        "\n",
        "# Download stopwords if not already downloaded\n",
        "nltk.download('stopwords')\n"
      ],
      "metadata": {
        "colab": {
          "base_uri": "https://localhost:8080/"
        },
        "id": "y9wJWMoOTjq6",
        "outputId": "34fa47a0-bb9f-4a19-ec7d-e64aa6d4dd59"
      },
      "execution_count": 7,
      "outputs": [
        {
          "output_type": "stream",
          "name": "stderr",
          "text": [
            "[nltk_data] Downloading package stopwords to /root/nltk_data...\n",
            "[nltk_data]   Package stopwords is already up-to-date!\n"
          ]
        },
        {
          "output_type": "execute_result",
          "data": {
            "text/plain": [
              "True"
            ]
          },
          "metadata": {},
          "execution_count": 7
        }
      ]
    },
    {
      "cell_type": "code",
      "source": [
        "\n",
        "# Initialize the Porter Stemmer\n",
        "port_stem = PorterStemmer()\n",
        "\n",
        "def stemming(content):\n",
        "    # Compact regex patterns for URLs, email addresses, mentions, and non-alphabetic characters\n",
        "    combined_pattern = r'http[s]?://\\S+|\\S+@\\S+|@\\w+|[^a-zA-Z\\s]'\n",
        "\n",
        "    # Remove unwanted patterns\n",
        "    stemmed_content = re.sub(combined_pattern, ' ', content)\n",
        "\n",
        "    # Convert to lowercase\n",
        "    stemmed_content = stemmed_content.lower()\n",
        "\n",
        "    # Split into words\n",
        "    stemmed_content = stemmed_content.split()\n",
        "\n",
        "    # Stem each word and remove stopwords\n",
        "    stemmed_content = [port_stem.stem(word) for word in stemmed_content if word not in stopwords.words('english')]\n",
        "\n",
        "    # Join words back into a single string\n",
        "    stemmed_content = ' '.join(stemmed_content)\n",
        "\n",
        "    # Return the processed text\n",
        "    return stemmed_content\n",
        "\n",
        "# Example usage\n",
        "text = \"Contact us at support@example.com and visit http://example.com. Also, follow us on Twitter @example_user! #Awesome\"\n",
        "processed_text = stemming(text)\n",
        "print(processed_text)\n"
      ],
      "metadata": {
        "id": "uMrVeYIMUgGz",
        "outputId": "8b34b8f1-93a6-4258-dc9e-41faedb41916",
        "colab": {
          "base_uri": "https://localhost:8080/"
        }
      },
      "execution_count": 8,
      "outputs": [
        {
          "output_type": "stream",
          "name": "stdout",
          "text": [
            "contact us visit also follow us twitter awesom\n"
          ]
        }
      ]
    },
    {
      "cell_type": "code",
      "source": [],
      "metadata": {
        "id": "UYYS6nRCVU6j"
      },
      "execution_count": null,
      "outputs": []
    }
  ],
  "metadata": {
    "colab": {
      "name": "Welcome To Colab",
      "toc_visible": true,
      "provenance": [],
      "include_colab_link": true
    },
    "kernelspec": {
      "display_name": "Python 3",
      "name": "python3"
    }
  },
  "nbformat": 4,
  "nbformat_minor": 0
}