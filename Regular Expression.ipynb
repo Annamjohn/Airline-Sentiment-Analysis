{
  "cells": [
    {
      "cell_type": "markdown",
      "metadata": {
        "id": "view-in-github",
        "colab_type": "text"
      },
      "source": [
        "<a href=\"https://colab.research.google.com/github/Annamjohn/Twitter-Sentiment-Analysis/blob/main/Regular%20Expression.ipynb\" target=\"_parent\"><img src=\"https://colab.research.google.com/assets/colab-badge.svg\" alt=\"Open In Colab\"/></a>"
      ]
    },
    {
      "cell_type": "code",
      "source": [
        "import re\n",
        "\n",
        "def remove_unwanted_patterns(text):\n",
        "    # Compact regex patterns for URLs, email addresses, mentions, and non-alphabetic characters\n",
        "    url_pattern = r'http[s]?://\\S+'\n",
        "    email_pattern = r'\\S+@\\S+'\n",
        "    mention_pattern = r'@\\w+'\n",
        "    non_alpha_pattern = r'[^a-zA-Z\\s]'\n",
        "\n",
        "    # Combine all patterns into one\n",
        "    combined_pattern = f'({url_pattern})|({email_pattern})|({mention_pattern})|({non_alpha_pattern})'\n",
        "\n",
        "    # Use re.sub to replace all matches with an empty string\n",
        "    cleaned_text = re.sub(combined_pattern, '', text)\n",
        "\n",
        "    return cleaned_text\n",
        "\n",
        "# Example usage\n",
        "text = \"Contact us at unknown@example.com and visit http://example.com. Also, follow us on Twitter @example_user! #see You soon\"\n",
        "cleaned_text = remove_unwanted_patterns(text)\n",
        "print(cleaned_text)\n"
      ],
      "metadata": {
        "colab": {
          "base_uri": "https://localhost:8080/"
        },
        "id": "IXKxjxMjTilp",
        "outputId": "e9362e0b-caea-4a69-a70e-c40e25c3dc24"
      },
      "execution_count": 2,
      "outputs": [
        {
          "output_type": "stream",
          "name": "stdout",
          "text": [
            "Contact us at  and visit  Also follow us on Twitter  see You soon\n"
          ]
        }
      ]
    },
    {
      "cell_type": "code",
      "source": [],
      "metadata": {
        "id": "y9wJWMoOTjq6"
      },
      "execution_count": null,
      "outputs": []
    }
  ],
  "metadata": {
    "colab": {
      "name": "Welcome To Colab",
      "toc_visible": true,
      "provenance": [],
      "include_colab_link": true
    },
    "kernelspec": {
      "display_name": "Python 3",
      "name": "python3"
    }
  },
  "nbformat": 4,
  "nbformat_minor": 0
}